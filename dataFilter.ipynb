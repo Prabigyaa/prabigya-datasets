{
 "cells": [
  {
   "cell_type": "markdown",
   "id": "9cb2449e",
   "metadata": {},
   "source": [
    "# Data processing for training.\n",
    "- Removing Null data\n",
    "- Creating certain number of sample data\n",
    "- Creating single file with all data"
   ]
  },
  {
   "cell_type": "markdown",
   "id": "0410d695",
   "metadata": {},
   "source": [
    "## Importing necessary libraries"
   ]
  },
  {
   "cell_type": "code",
   "execution_count": 334,
   "id": "05b82a75",
   "metadata": {},
   "outputs": [],
   "source": [
    "import pandas as pd\n",
    "import os"
   ]
  },
  {
   "cell_type": "markdown",
   "id": "734d4bf4",
   "metadata": {},
   "source": [
    "## Constant datas"
   ]
  },
  {
   "cell_type": "code",
   "execution_count": 350,
   "id": "050c852a",
   "metadata": {},
   "outputs": [],
   "source": [
    "pathName = os.getcwd()+\"/Datas/\"\n",
    "fracSample = 0.001"
   ]
  },
  {
   "cell_type": "markdown",
   "id": "6c06a550",
   "metadata": {},
   "source": [
    "### Reading all the file in the given path and storing all the csv file"
   ]
  },
  {
   "cell_type": "code",
   "execution_count": 336,
   "id": "cdd62a36",
   "metadata": {},
   "outputs": [],
   "source": [
    "allFileNames= os.listdir(pathName)"
   ]
  },
  {
   "cell_type": "code",
   "execution_count": 337,
   "id": "18e8cf28",
   "metadata": {},
   "outputs": [],
   "source": [
    "numFiles=  []\n",
    "fileNames= []"
   ]
  },
  {
   "cell_type": "code",
   "execution_count": 338,
   "id": "289d8d89",
   "metadata": {},
   "outputs": [],
   "source": [
    "for fileName in allFileNames:\n",
    "    if fileName.endswith(\".csv\"):\n",
    "        numFiles.append(pathName+fileName)\n",
    "        fileNames.append(fileName)"
   ]
  },
  {
   "cell_type": "markdown",
   "id": "b8f1c233",
   "metadata": {},
   "source": [
    "## Looping over csv file to remove all the null values and overwrite it"
   ]
  },
  {
   "cell_type": "code",
   "execution_count": 339,
   "id": "5c01f6fc",
   "metadata": {},
   "outputs": [],
   "source": [
    "datas=pd.DataFrame()"
   ]
  },
  {
   "cell_type": "code",
   "execution_count": 340,
   "id": "0d557c69",
   "metadata": {},
   "outputs": [
    {
     "name": "stdout",
     "output_type": "stream",
     "text": [
      "Available Files are: ['Go.csv', 'java.csv', 'JS.csv', 'php.csv', 'python.csv', 'Ruby.csv']\n"
     ]
    }
   ],
   "source": [
    "print(f'Available Files are: {fileNames}')"
   ]
  },
  {
   "cell_type": "code",
   "execution_count": 341,
   "id": "7fe09566",
   "metadata": {},
   "outputs": [],
   "source": [
    "x=0"
   ]
  },
  {
   "cell_type": "code",
   "execution_count": 342,
   "id": "1e5d903f",
   "metadata": {},
   "outputs": [
    {
     "name": "stdout",
     "output_type": "stream",
     "text": [
      "Starting Data processing ...\n",
      "Done Processing C:\\Users\\sunny\\Downloads\\Dataset-20230430T045422Z-001\\Dataset/Datas/Go.csv\n",
      "Done Processing C:\\Users\\sunny\\Downloads\\Dataset-20230430T045422Z-001\\Dataset/Datas/java.csv\n",
      "Done Processing C:\\Users\\sunny\\Downloads\\Dataset-20230430T045422Z-001\\Dataset/Datas/JS.csv\n",
      "Done Processing C:\\Users\\sunny\\Downloads\\Dataset-20230430T045422Z-001\\Dataset/Datas/php.csv\n",
      "Done Processing C:\\Users\\sunny\\Downloads\\Dataset-20230430T045422Z-001\\Dataset/Datas/python.csv\n",
      "Done Processing C:\\Users\\sunny\\Downloads\\Dataset-20230430T045422Z-001\\Dataset/Datas/Ruby.csv\n"
     ]
    }
   ],
   "source": [
    "print(\"Starting Data processing ...\")\n",
    "for file in numFiles:\n",
    "    data= pd.read_csv(file)\n",
    "    x = x+data.shape[0]\n",
    "    data[\"Revised\"] = data[\"Revised\"].str.lower()\n",
    "    datas = pd.concat([datas,data],axis=0)\n",
    "    print(f\"Done Processing {file}\")"
   ]
  },
  {
   "cell_type": "code",
   "execution_count": 343,
   "id": "32611cc9",
   "metadata": {},
   "outputs": [
    {
     "name": "stdout",
     "output_type": "stream",
     "text": [
      "Total number of data: 2411672\n"
     ]
    }
   ],
   "source": [
    "print(f\"Total number of data: {datas.shape[0]}\")"
   ]
  },
  {
   "cell_type": "code",
   "execution_count": 344,
   "id": "ed02eb70",
   "metadata": {},
   "outputs": [
    {
     "data": {
      "text/html": [
       "<div>\n",
       "<style scoped>\n",
       "    .dataframe tbody tr th:only-of-type {\n",
       "        vertical-align: middle;\n",
       "    }\n",
       "\n",
       "    .dataframe tbody tr th {\n",
       "        vertical-align: top;\n",
       "    }\n",
       "\n",
       "    .dataframe thead th {\n",
       "        text-align: right;\n",
       "    }\n",
       "</style>\n",
       "<table border=\"1\" class=\"dataframe\">\n",
       "  <thead>\n",
       "    <tr style=\"text-align: right;\">\n",
       "      <th></th>\n",
       "      <th>docstring</th>\n",
       "      <th>Revised</th>\n",
       "    </tr>\n",
       "  </thead>\n",
       "  <tbody>\n",
       "    <tr>\n",
       "      <th>0</th>\n",
       "      <td>waits up to 3-second until connection is up (p...</td>\n",
       "      <td>mustwaitpinready</td>\n",
       "    </tr>\n",
       "    <tr>\n",
       "      <th>1</th>\n",
       "      <td>returns the cobra command for \"gateway\".</td>\n",
       "      <td>newgatewaycommand</td>\n",
       "    </tr>\n",
       "    <tr>\n",
       "      <th>2</th>\n",
       "      <td>returns a reader that reads from the given rea...</td>\n",
       "      <td>newlimitedbufferreader</td>\n",
       "    </tr>\n",
       "    <tr>\n",
       "      <th>3</th>\n",
       "      <td>specifies the context for permanently aborting...</td>\n",
       "      <td>withabortcontext</td>\n",
       "    </tr>\n",
       "    <tr>\n",
       "      <th>4</th>\n",
       "      <td>is a hint to prefetch a list of keys before tr...</td>\n",
       "      <td>withprefetch</td>\n",
       "    </tr>\n",
       "    <tr>\n",
       "      <th>...</th>\n",
       "      <td>...</td>\n",
       "      <td>...</td>\n",
       "    </tr>\n",
       "    <tr>\n",
       "      <th>481355</th>\n",
       "      <td>Returns the primitive array {@link Object#toSt...</td>\n",
       "      <td>primarraytostring</td>\n",
       "    </tr>\n",
       "    <tr>\n",
       "      <th>481356</th>\n",
       "      <td>Converts the given object array to primitive a...</td>\n",
       "      <td>unwraps</td>\n",
       "    </tr>\n",
       "    <tr>\n",
       "      <th>481357</th>\n",
       "      <td>Adds the element at the specified position fro...</td>\n",
       "      <td>add</td>\n",
       "    </tr>\n",
       "    <tr>\n",
       "      <th>481358</th>\n",
       "      <td>Removes the element at the specified position ...</td>\n",
       "      <td>remove</td>\n",
       "    </tr>\n",
       "    <tr>\n",
       "      <th>481359</th>\n",
       "      <td>Converts the given target as an array of primi...</td>\n",
       "      <td>wraps</td>\n",
       "    </tr>\n",
       "  </tbody>\n",
       "</table>\n",
       "<p>2367223 rows × 2 columns</p>\n",
       "</div>"
      ],
      "text/plain": [
       "                                                docstring  \\\n",
       "0       waits up to 3-second until connection is up (p...   \n",
       "1                returns the cobra command for \"gateway\".   \n",
       "2       returns a reader that reads from the given rea...   \n",
       "3       specifies the context for permanently aborting...   \n",
       "4       is a hint to prefetch a list of keys before tr...   \n",
       "...                                                   ...   \n",
       "481355  Returns the primitive array {@link Object#toSt...   \n",
       "481356  Converts the given object array to primitive a...   \n",
       "481357  Adds the element at the specified position fro...   \n",
       "481358  Removes the element at the specified position ...   \n",
       "481359  Converts the given target as an array of primi...   \n",
       "\n",
       "                       Revised  \n",
       "0             mustwaitpinready  \n",
       "1            newgatewaycommand  \n",
       "2       newlimitedbufferreader  \n",
       "3             withabortcontext  \n",
       "4                 withprefetch  \n",
       "...                        ...  \n",
       "481355       primarraytostring  \n",
       "481356                 unwraps  \n",
       "481357                     add  \n",
       "481358                  remove  \n",
       "481359                   wraps  \n",
       "\n",
       "[2367223 rows x 2 columns]"
      ]
     },
     "execution_count": 344,
     "metadata": {},
     "output_type": "execute_result"
    }
   ],
   "source": [
    "datas.dropna()"
   ]
  },
  {
   "cell_type": "code",
   "execution_count": 345,
   "id": "2e95e0c5",
   "metadata": {
    "scrolled": true
   },
   "outputs": [
    {
     "data": {
      "text/html": [
       "<div>\n",
       "<style scoped>\n",
       "    .dataframe tbody tr th:only-of-type {\n",
       "        vertical-align: middle;\n",
       "    }\n",
       "\n",
       "    .dataframe tbody tr th {\n",
       "        vertical-align: top;\n",
       "    }\n",
       "\n",
       "    .dataframe thead th {\n",
       "        text-align: right;\n",
       "    }\n",
       "</style>\n",
       "<table border=\"1\" class=\"dataframe\">\n",
       "  <thead>\n",
       "    <tr style=\"text-align: right;\">\n",
       "      <th></th>\n",
       "      <th>docstring</th>\n",
       "      <th>Revised</th>\n",
       "    </tr>\n",
       "  </thead>\n",
       "  <tbody>\n",
       "    <tr>\n",
       "      <th>0</th>\n",
       "      <td>waits up to 3-second until connection is up (p...</td>\n",
       "      <td>mustwaitpinready</td>\n",
       "    </tr>\n",
       "    <tr>\n",
       "      <th>1</th>\n",
       "      <td>returns the cobra command for \"gateway\".</td>\n",
       "      <td>newgatewaycommand</td>\n",
       "    </tr>\n",
       "    <tr>\n",
       "      <th>2</th>\n",
       "      <td>returns a reader that reads from the given rea...</td>\n",
       "      <td>newlimitedbufferreader</td>\n",
       "    </tr>\n",
       "    <tr>\n",
       "      <th>3</th>\n",
       "      <td>specifies the context for permanently aborting...</td>\n",
       "      <td>withabortcontext</td>\n",
       "    </tr>\n",
       "    <tr>\n",
       "      <th>4</th>\n",
       "      <td>is a hint to prefetch a list of keys before tr...</td>\n",
       "      <td>withprefetch</td>\n",
       "    </tr>\n",
       "  </tbody>\n",
       "</table>\n",
       "</div>"
      ],
      "text/plain": [
       "                                           docstring                 Revised\n",
       "0  waits up to 3-second until connection is up (p...        mustwaitpinready\n",
       "1           returns the cobra command for \"gateway\".       newgatewaycommand\n",
       "2  returns a reader that reads from the given rea...  newlimitedbufferreader\n",
       "3  specifies the context for permanently aborting...        withabortcontext\n",
       "4  is a hint to prefetch a list of keys before tr...            withprefetch"
      ]
     },
     "execution_count": 345,
     "metadata": {},
     "output_type": "execute_result"
    }
   ],
   "source": [
    "datas.head()"
   ]
  },
  {
   "cell_type": "markdown",
   "id": "fbb26888",
   "metadata": {},
   "source": [
    "## Converting data into csv"
   ]
  },
  {
   "cell_type": "code",
   "execution_count": 346,
   "id": "7d641615",
   "metadata": {},
   "outputs": [],
   "source": [
    "datas.to_csv(\"train.csv\",index = False)"
   ]
  },
  {
   "cell_type": "markdown",
   "id": "7594972d",
   "metadata": {},
   "source": [
    "#### Taking sample as fraction"
   ]
  },
  {
   "cell_type": "code",
   "execution_count": 363,
   "id": "32111347",
   "metadata": {},
   "outputs": [],
   "source": [
    "smallSample = datas.sample(frac=fracSample)\n",
    "smallSample.to_csv(\"sampleTrain.csv\", index=False)"
   ]
  },
  {
   "cell_type": "markdown",
   "id": "a18134fc",
   "metadata": {},
   "source": [
    "## Displaying sample data"
   ]
  },
  {
   "cell_type": "markdown",
   "id": "8db66934",
   "metadata": {},
   "source": [
    "#### Total Data"
   ]
  },
  {
   "cell_type": "code",
   "execution_count": 359,
   "id": "abef9f15",
   "metadata": {},
   "outputs": [
    {
     "name": "stdout",
     "output_type": "stream",
     "text": [
      "Number of datas: 2411672\n"
     ]
    },
    {
     "data": {
      "text/html": [
       "<div>\n",
       "<style scoped>\n",
       "    .dataframe tbody tr th:only-of-type {\n",
       "        vertical-align: middle;\n",
       "    }\n",
       "\n",
       "    .dataframe tbody tr th {\n",
       "        vertical-align: top;\n",
       "    }\n",
       "\n",
       "    .dataframe thead th {\n",
       "        text-align: right;\n",
       "    }\n",
       "</style>\n",
       "<table border=\"1\" class=\"dataframe\">\n",
       "  <thead>\n",
       "    <tr style=\"text-align: right;\">\n",
       "      <th></th>\n",
       "      <th>docstring</th>\n",
       "      <th>Revised</th>\n",
       "    </tr>\n",
       "  </thead>\n",
       "  <tbody>\n",
       "    <tr>\n",
       "      <th>0</th>\n",
       "      <td>waits up to 3-second until connection is up (p...</td>\n",
       "      <td>mustwaitpinready</td>\n",
       "    </tr>\n",
       "    <tr>\n",
       "      <th>1</th>\n",
       "      <td>returns the cobra command for \"gateway\".</td>\n",
       "      <td>newgatewaycommand</td>\n",
       "    </tr>\n",
       "    <tr>\n",
       "      <th>2</th>\n",
       "      <td>returns a reader that reads from the given rea...</td>\n",
       "      <td>newlimitedbufferreader</td>\n",
       "    </tr>\n",
       "    <tr>\n",
       "      <th>3</th>\n",
       "      <td>specifies the context for permanently aborting...</td>\n",
       "      <td>withabortcontext</td>\n",
       "    </tr>\n",
       "    <tr>\n",
       "      <th>4</th>\n",
       "      <td>is a hint to prefetch a list of keys before tr...</td>\n",
       "      <td>withprefetch</td>\n",
       "    </tr>\n",
       "  </tbody>\n",
       "</table>\n",
       "</div>"
      ],
      "text/plain": [
       "                                           docstring                 Revised\n",
       "0  waits up to 3-second until connection is up (p...        mustwaitpinready\n",
       "1           returns the cobra command for \"gateway\".       newgatewaycommand\n",
       "2  returns a reader that reads from the given rea...  newlimitedbufferreader\n",
       "3  specifies the context for permanently aborting...        withabortcontext\n",
       "4  is a hint to prefetch a list of keys before tr...            withprefetch"
      ]
     },
     "execution_count": 359,
     "metadata": {},
     "output_type": "execute_result"
    }
   ],
   "source": [
    "print(\"Number of datas: {shape}\".format(shape=pd.read_csv(\"train.csv\").shape[0]))\n",
    "pd.read_csv(\"train.csv\").head()"
   ]
  },
  {
   "cell_type": "markdown",
   "id": "05994165",
   "metadata": {},
   "source": [
    "#### Sample data"
   ]
  },
  {
   "cell_type": "code",
   "execution_count": 362,
   "id": "5e9d5705",
   "metadata": {},
   "outputs": [
    {
     "name": "stdout",
     "output_type": "stream",
     "text": [
      "Number of datas: 2412\n"
     ]
    },
    {
     "data": {
      "text/html": [
       "<div>\n",
       "<style scoped>\n",
       "    .dataframe tbody tr th:only-of-type {\n",
       "        vertical-align: middle;\n",
       "    }\n",
       "\n",
       "    .dataframe tbody tr th {\n",
       "        vertical-align: top;\n",
       "    }\n",
       "\n",
       "    .dataframe thead th {\n",
       "        text-align: right;\n",
       "    }\n",
       "</style>\n",
       "<table border=\"1\" class=\"dataframe\">\n",
       "  <thead>\n",
       "    <tr style=\"text-align: right;\">\n",
       "      <th></th>\n",
       "      <th>docstring</th>\n",
       "      <th>Revised</th>\n",
       "    </tr>\n",
       "  </thead>\n",
       "  <tbody>\n",
       "    <tr>\n",
       "      <th>0</th>\n",
       "      <td>Builds a profile object from a raw player summ...</td>\n",
       "      <td>from_def</td>\n",
       "    </tr>\n",
       "    <tr>\n",
       "      <th>1</th>\n",
       "      <td>Get siblings of :raml_resource:.\\n\\n    :param...</td>\n",
       "      <td>get_resource_siblings</td>\n",
       "    </tr>\n",
       "    <tr>\n",
       "      <th>2</th>\n",
       "      <td>Store a newly created resource in storage.\\n\\n...</td>\n",
       "      <td>store</td>\n",
       "    </tr>\n",
       "    <tr>\n",
       "      <th>3</th>\n",
       "      <td>Runs through all subscribed methods running th...</td>\n",
       "      <td>trigger</td>\n",
       "    </tr>\n",
       "    <tr>\n",
       "      <th>4</th>\n",
       "      <td>Serializes the current view of open video grid...</td>\n",
       "      <td>serializecontainers</td>\n",
       "    </tr>\n",
       "  </tbody>\n",
       "</table>\n",
       "</div>"
      ],
      "text/plain": [
       "                                           docstring                Revised\n",
       "0  Builds a profile object from a raw player summ...               from_def\n",
       "1  Get siblings of :raml_resource:.\\n\\n    :param...  get_resource_siblings\n",
       "2  Store a newly created resource in storage.\\n\\n...                  store\n",
       "3  Runs through all subscribed methods running th...                trigger\n",
       "4  Serializes the current view of open video grid...    serializecontainers"
      ]
     },
     "execution_count": 362,
     "metadata": {},
     "output_type": "execute_result"
    }
   ],
   "source": [
    "print(\"Number of datas: {shape}\".format(shape=pd.read_csv(\"sampleTrain.csv\").shape[0]))\n",
    "pd.read_csv(\"sampleTrain.csv\").head()"
   ]
  }
 ],
 "metadata": {
  "kernelspec": {
   "display_name": "Python 3 (ipykernel)",
   "language": "python",
   "name": "python3"
  },
  "language_info": {
   "codemirror_mode": {
    "name": "ipython",
    "version": 3
   },
   "file_extension": ".py",
   "mimetype": "text/x-python",
   "name": "python",
   "nbconvert_exporter": "python",
   "pygments_lexer": "ipython3",
   "version": "3.11.2"
  }
 },
 "nbformat": 4,
 "nbformat_minor": 5
}
